{
 "cells": [
  {
   "cell_type": "markdown",
   "id": "1b276787-5380-4aa1-a71b-5f33f93bb763",
   "metadata": {},
   "source": [
    "# importing libraries"
   ]
  },
  {
   "cell_type": "code",
   "execution_count": 1,
   "id": "888e82d8-5ea4-4199-b6d4-ad57d140d605",
   "metadata": {},
   "outputs": [],
   "source": [
    "import pandas as pd"
   ]
  },
  {
   "cell_type": "code",
   "execution_count": 3,
   "id": "df0bd5f9-d531-463f-a048-69e9de2148ee",
   "metadata": {},
   "outputs": [],
   "source": [
    "import numpy as np"
   ]
  },
  {
   "cell_type": "code",
   "execution_count": 5,
   "id": "d4cab770-d6bf-411b-8898-41b7c7744bbf",
   "metadata": {},
   "outputs": [],
   "source": [
    "import matplotlib.pyplot as plt     ## this is used when ploting chats"
   ]
  },
  {
   "cell_type": "code",
   "execution_count": 7,
   "id": "14c6217f-742d-4dce-aeb0-93dfe39cc8de",
   "metadata": {},
   "outputs": [],
   "source": [
    "import seaborn as sns   ## this library is used during ploting"
   ]
  },
  {
   "cell_type": "markdown",
   "id": "f7758057-c442-4762-af04-d48bbdc509c3",
   "metadata": {},
   "source": [
    "  # Bonus Question."
   ]
  },
  {
   "cell_type": "code",
   "execution_count": 10,
   "id": "77f0f8ee-c349-42e0-bf6f-1a373bad42d8",
   "metadata": {},
   "outputs": [],
   "source": [
    "### I got this concept from mathematical computing"
   ]
  },
  {
   "cell_type": "markdown",
   "id": "5decda08-ed3b-4b2a-bf5c-7a39f1787054",
   "metadata": {},
   "source": [
    " \n",
    "##### (a) Multiply a 5x3 matrix by a 3x2 matrix (real matrix product) (Hint: create a 5x3 and 3x2 matrices\n",
    "##### and peform matrix multiplication)."
   ]
  },
  {
   "cell_type": "code",
   "execution_count": 13,
   "id": "edf4add3-230f-488d-95a9-2d8ce0ca4e7b",
   "metadata": {},
   "outputs": [
    {
     "name": "stdout",
     "output_type": "stream",
     "text": [
      "[[ 3  5  1]\n",
      " [ 5  4  3]\n",
      " [ 5  0  8]\n",
      " [ 1 -1  4]\n",
      " [-5  0  9]]\n"
     ]
    }
   ],
   "source": [
    "x =np.array([[3,5,1],[5,4,3],[5,0,8],[1,-1,4],[-5,0,9]])  ## this is done when creating an array or matrix\n",
    "print(x)"
   ]
  },
  {
   "cell_type": "code",
   "execution_count": 15,
   "id": "1a4f5a95-63c8-4401-a410-6eebc6446f5d",
   "metadata": {},
   "outputs": [
    {
     "name": "stdout",
     "output_type": "stream",
     "text": [
      "[[ 2  4]\n",
      " [ 5  0]\n",
      " [ 5 -4]]\n"
     ]
    }
   ],
   "source": [
    "y = np.array([[2,4],[5,0],[5,-4]])   ## this is done when creating an array or matrix\n",
    "print(y)"
   ]
  },
  {
   "cell_type": "code",
   "execution_count": 17,
   "id": "29547aad-045e-4bff-a687-f541afa6c017",
   "metadata": {},
   "outputs": [
    {
     "name": "stdout",
     "output_type": "stream",
     "text": [
      "[[ 36   8]\n",
      " [ 45   8]\n",
      " [ 50 -12]\n",
      " [ 17 -12]\n",
      " [ 35 -56]]\n"
     ]
    }
   ],
   "source": [
    "x =np.array([[3,5,1],[5,4,3],[5,0,8],[1,-1,4],[-5,0,9]]) # when dealing with matrix mutiplication,we mainly use\n",
    "                                                         # np.dot as the code inorder to multipl the matrices\n",
    "y = np.array([[2,4],[5,0],[5,-4]])\n",
    "matrix_multiplication = np.dot(x,y)\n",
    "print(matrix_multiplication)"
   ]
  },
  {
   "cell_type": "markdown",
   "id": "72845f55-ebd9-4836-9abd-e14c46f1f860",
   "metadata": {},
   "source": [
    "##### (b) Create a 3x3 identity matrix"
   ]
  },
  {
   "cell_type": "code",
   "execution_count": 20,
   "id": "54dccf25-cb6a-4186-b4a1-7114ec26023b",
   "metadata": {},
   "outputs": [
    {
     "name": "stdout",
     "output_type": "stream",
     "text": [
      "[[1. 0. 0.]\n",
      " [0. 1. 0.]\n",
      " [0. 0. 1.]]\n"
     ]
    }
   ],
   "source": [
    "identity_matrix = np.identity(3)  ## when getting the matrix identity , we use the code np.identity \n",
    "                                  ## and then put the size of the matrix in brackets forexample 3x3 is indicated by 3 in brackets.\n",
    "print(identity_matrix)"
   ]
  },
  {
   "cell_type": "markdown",
   "id": "ac40fa20-a5dc-4a89-b1a2-5c721677566c",
   "metadata": {},
   "source": [
    "##### (c) Create a vector with values ranging from 10 to 49)."
   ]
  },
  {
   "cell_type": "code",
   "execution_count": 23,
   "id": "aa3e9819-92e2-4ed0-821d-cb2ee5033d3d",
   "metadata": {},
   "outputs": [
    {
     "name": "stdout",
     "output_type": "stream",
     "text": [
      "[10 11 12 13 14 15 16 17 18 19 20 21 22 23 24 25 26 27 28 29 30 31 32 33\n",
      " 34 35 36 37 38 39 40 41 42 43 44 45 46 47 48 49]\n"
     ]
    }
   ],
   "source": [
    "vector = np.arange(10,50)   ## so when dealing with geting the vector values ranging from 10 to 49 ,we use np.arange and \n",
    "print(vector)               ## this helps to arrange the values.in brackets, we put the numbers to be arranged like 10,50 \n",
    "                            ## the 50 makes numbers to stop at 49 so 50 is not inclusive. this count from 10 to 49 excluding 50"
   ]
  },
  {
   "cell_type": "markdown",
   "id": "18c92857-5c75-4e90-9bc7-a443676571ab",
   "metadata": {},
   "source": [
    "##### (d) Create a null vector of size 10."
   ]
  },
  {
   "cell_type": "code",
   "execution_count": 26,
   "id": "eb9535a1-14aa-4da4-ab11-95bce152ae24",
   "metadata": {},
   "outputs": [
    {
     "name": "stdout",
     "output_type": "stream",
     "text": [
      "[0. 0. 0. 0. 0. 0. 0. 0. 0. 0.]\n"
     ]
    }
   ],
   "source": [
    "null_vector = np.zeros(10)    ## null means zero(0) and therefore the null vector of 10 we use np.zeros and the value in\n",
    "print(null_vector)            ## the  brackets indicates the number of zeros to appear after printing  null vector of size 10 = 10 zeros"
   ]
  },
  {
   "cell_type": "markdown",
   "id": "989af9da-6652-4fcb-8395-49a66e26b642",
   "metadata": {},
   "source": [
    "##### (e) Create a 3x3x3 array with random values"
   ]
  },
  {
   "cell_type": "code",
   "execution_count": 29,
   "id": "9f091854-7a85-4294-96e3-09aa02859f90",
   "metadata": {},
   "outputs": [
    {
     "name": "stdout",
     "output_type": "stream",
     "text": [
      "[[[0.29105421 0.80766588 0.09919834]\n",
      "  [0.90207875 0.43392838 0.65543337]\n",
      "  [0.01008227 0.72882297 0.03137173]]\n",
      "\n",
      " [[0.3890498  0.27042255 0.30295827]\n",
      "  [0.46340128 0.60431509 0.6823069 ]\n",
      "  [0.68094339 0.88697901 0.914054  ]]\n",
      "\n",
      " [[0.27120864 0.48913989 0.72865051]\n",
      "  [0.26949597 0.22341658 0.17522294]\n",
      "  [0.02891416 0.3493782  0.86474275]]]\n"
     ]
    }
   ],
   "source": [
    "random_array = np.random.rand(3,3,3) ### when creating an array with random values, we do consider the size of the matrix forexample 3x3x3 matrix/array\n",
    "                                     ### so we use the code np.random.rand where the np is when creating an array, random helps to tern the values into\n",
    "print(random_array)                  ### random values and 3x3x3 displays 3 matrix of 3 by 3 in size"
   ]
  },
  {
   "cell_type": "markdown",
   "id": "06e9d5c2-9b7d-41f4-accb-de3dc1f4d3cd",
   "metadata": {},
   "source": [
    "##### (f) Create a 5x5 matrix with values 1,2,3,4 just below the diagonal"
   ]
  },
  {
   "cell_type": "code",
   "execution_count": 32,
   "id": "0156d3cb-7a01-4075-8840-58a29d4cb99b",
   "metadata": {},
   "outputs": [
    {
     "name": "stdout",
     "output_type": "stream",
     "text": [
      "[[0. 0. 0. 0. 0.]\n",
      " [1. 0. 0. 0. 0.]\n",
      " [0. 2. 0. 0. 0.]\n",
      " [0. 0. 3. 0. 0.]\n",
      " [0. 0. 0. 4. 0.]]\n"
     ]
    }
   ],
   "source": [
    "A = np.zeros((5,5))   ### np.zero makes all the values of a 5x5 matrix to bo zeros\n",
    "A [1,0] = 1           ### in the first row only zeros\n",
    "A [2,1] = 2           ### in the second row , 1 appears in the first column\n",
    "A [3,2] = 3           ### in the third row , 2 appears in the second column \n",
    "A [4,3] = 4           ### in the 4th row , 3 appears in the third column\n",
    "                      ### in the 5th row , 4 appears in the 4th column\n",
    "print(A)              ### prints results in a 5x5 matrix with 1,2,3,4 inclusive"
   ]
  },
  {
   "cell_type": "markdown",
   "id": "70213395-54a7-44c7-b6a2-9bd0a62c8e1b",
   "metadata": {},
   "source": [
    "##### (g) Normalize a 5x5 random matrix"
   ]
  },
  {
   "cell_type": "code",
   "execution_count": 35,
   "id": "9d627f79-c767-457e-b977-82b24afda477",
   "metadata": {},
   "outputs": [
    {
     "name": "stdout",
     "output_type": "stream",
     "text": [
      "[[0.25577967 0.20669375 0.64096322 0.68554991 0.59427953]\n",
      " [0.70899058 0.24179216 0.28287643 0.08420231 0.66835649]\n",
      " [0.55227861 0.79755375 0.12072283 0.05517477 0.89837436]\n",
      " [0.89500393 0.47678384 0.36547656 0.69296851 0.84965778]\n",
      " [0.40116377 0.67690166 0.22883694 0.57912856 0.6261401 ]]\n",
      "[[0.09062539 0.07323374 0.22709991 0.24289744 0.2105594 ]\n",
      " [0.25120271 0.08566947 0.10022605 0.02983375 0.23680563]\n",
      " [0.19567804 0.28258156 0.04277335 0.01954899 0.31830335]\n",
      " [0.31710917 0.16892946 0.12949214 0.24552593 0.30104256]\n",
      " [0.14213648 0.23983328 0.0810793  0.20519125 0.22184793]]\n"
     ]
    }
   ],
   "source": [
    "matrix = np.random.rand(5,5)\n",
    "norm = np.linalg.norm(matrix)\n",
    "normalized_matrix = matrix / norm\n",
    "print(matrix)\n",
    "print(normalized_matrix)"
   ]
  },
  {
   "cell_type": "code",
   "execution_count": 37,
   "id": "770011e9-cb28-4c4a-a0ad-cf34ae36b210",
   "metadata": {},
   "outputs": [],
   "source": [
    "from datetime import datetime ,timedelta"
   ]
  },
  {
   "cell_type": "markdown",
   "id": "de677a10-6895-458b-a15d-469b5c9c3263",
   "metadata": {},
   "source": [
    "##### (h) How to get the dates of yesterday, today and tomorrow?"
   ]
  },
  {
   "cell_type": "code",
   "execution_count": 40,
   "id": "490e94dc-07e9-46ca-a24c-5b416770dbed",
   "metadata": {},
   "outputs": [
    {
     "name": "stdout",
     "output_type": "stream",
     "text": [
      "Todays date: 2024-12-12\n",
      "Yesterdays date: 2024-12-11\n",
      "Tommorows date: 2024-12-13\n"
     ]
    }
   ],
   "source": [
    "today = datetime.now().date()   ## THIS ENSURES THAT THE DATE IS NOW OR TODATE\n",
    "print(\"Todays date:\" ,today)    ## \n",
    "yesterday = today - timedelta(days=1)\n",
    "print(\"Yesterdays date:\" ,yesterday)\n",
    "tommorow = today + timedelta(days=1)\n",
    "print(\"Tommorows date:\" ,tommorow)"
   ]
  },
  {
   "cell_type": "markdown",
   "id": "56ff32bf-ec20-4c31-a32b-bbef0cd61322",
   "metadata": {},
   "source": [
    "##### (i) Find indices of non-zero elements from [1,2,0,0,4,0]. In all the above questions explain your\n",
    "approach."
   ]
  },
  {
   "cell_type": "code",
   "execution_count": 43,
   "id": "aa5de573-657f-4974-922b-8da56a50ecdb",
   "metadata": {},
   "outputs": [
    {
     "name": "stdout",
     "output_type": "stream",
     "text": [
      "[0 1 4]\n"
     ]
    }
   ],
   "source": [
    "arr = np.array([1, 2, 0, 0, 4, 0])   ## creates a NumPy array.\n",
    "non_zero_indices = np.nonzero(arr)    ##  returns the indices of the non-zero elements\n",
    "print(non_zero_indices[0])            ##   extracts the indices from the tuple  "
   ]
  },
  {
   "cell_type": "markdown",
   "id": "ffebfa78-261a-49f1-8cce-abfb83865db0",
   "metadata": {},
   "source": [
    "# QUESTION ONE\n",
    "##### Variation and variability: A random sample of 10,000 observational cases are taken from 2020\n",
    "##### US Census data on income. The response variable: yearly income ($). Note that the data has been\n",
    "##### cleaned to remove people who were not employed and/or income was reported as 0. Thus, n = 4, 365."
   ]
  },
  {
   "cell_type": "code",
   "execution_count": 46,
   "id": "40387cf8-a630-40f3-a14f-415478c0b26b",
   "metadata": {},
   "outputs": [],
   "source": [
    "import pandas as pd"
   ]
  },
  {
   "cell_type": "code",
   "execution_count": 48,
   "id": "a26987d7-f908-4a89-83a3-d359790e6823",
   "metadata": {},
   "outputs": [],
   "source": [
    "import numpy as np"
   ]
  },
  {
   "cell_type": "code",
   "execution_count": 50,
   "id": "c47d58a8-31be-48df-86b7-e6e61f1fada6",
   "metadata": {},
   "outputs": [],
   "source": [
    "import matplotlib.pyplot as plt"
   ]
  },
  {
   "cell_type": "code",
   "execution_count": 52,
   "id": "86a6711b-4097-4958-a685-543ec09cfb4e",
   "metadata": {},
   "outputs": [],
   "source": [
    "import seaborn as sns"
   ]
  },
  {
   "cell_type": "markdown",
   "id": "9c62ef7a-b1f2-4599-94a3-cf9a803962ce",
   "metadata": {},
   "source": [
    "##### (a) What is a ’typical’ yearly income for these 4,365 people? (3 marks)"
   ]
  },
  {
   "cell_type": "code",
   "execution_count": 55,
   "id": "d6b0836e-1b2c-411e-9525-51265a9e4d8f",
   "metadata": {},
   "outputs": [
    {
     "data": {
      "text/html": [
       "<div>\n",
       "<style scoped>\n",
       "    .dataframe tbody tr th:only-of-type {\n",
       "        vertical-align: middle;\n",
       "    }\n",
       "\n",
       "    .dataframe tbody tr th {\n",
       "        vertical-align: top;\n",
       "    }\n",
       "\n",
       "    .dataframe thead th {\n",
       "        text-align: right;\n",
       "    }\n",
       "</style>\n",
       "<table border=\"1\" class=\"dataframe\">\n",
       "  <thead>\n",
       "    <tr style=\"text-align: right;\">\n",
       "      <th></th>\n",
       "      <th>Age</th>\n",
       "      <th>Sex</th>\n",
       "      <th>Marital_status</th>\n",
       "      <th>Number_of_children</th>\n",
       "      <th>Family_size</th>\n",
       "      <th>Education-degree_recode</th>\n",
       "      <th>Education-degree_recode 2</th>\n",
       "      <th>Education</th>\n",
       "      <th>Race_ethnicity-multi_recode</th>\n",
       "      <th>Immigrate-year</th>\n",
       "      <th>Birthplace_recode</th>\n",
       "      <th>Speaks_English</th>\n",
       "      <th>Employment_status</th>\n",
       "      <th>Income-wages</th>\n",
       "      <th>Region_recode</th>\n",
       "      <th>Region-division_recode</th>\n",
       "      <th>Moved</th>\n",
       "      <th>Year</th>\n",
       "      <th>state</th>\n",
       "    </tr>\n",
       "  </thead>\n",
       "  <tbody>\n",
       "    <tr>\n",
       "      <th>0</th>\n",
       "      <td>30</td>\n",
       "      <td>Male</td>\n",
       "      <td>Married, spouse present</td>\n",
       "      <td>2</td>\n",
       "      <td>4</td>\n",
       "      <td>Masterâ€™s or professional degree</td>\n",
       "      <td>Master or professional degree</td>\n",
       "      <td>Master or PhD or professional degree</td>\n",
       "      <td>Non-Hispanic White</td>\n",
       "      <td>0</td>\n",
       "      <td>U.S. state, territory, or outlying region</td>\n",
       "      <td>Yes, speaks only English</td>\n",
       "      <td>Employed</td>\n",
       "      <td>63000</td>\n",
       "      <td>South</td>\n",
       "      <td>East South Central</td>\n",
       "      <td>Same house</td>\n",
       "      <td>2020</td>\n",
       "      <td>Tennessee</td>\n",
       "    </tr>\n",
       "    <tr>\n",
       "      <th>1</th>\n",
       "      <td>28</td>\n",
       "      <td>Female</td>\n",
       "      <td>Married, spouse present</td>\n",
       "      <td>1 child present</td>\n",
       "      <td>3</td>\n",
       "      <td>Masterâ€™s or professional degree</td>\n",
       "      <td>Master or professional degree</td>\n",
       "      <td>Master or PhD or professional degree</td>\n",
       "      <td>Non-Hispanic White</td>\n",
       "      <td>0</td>\n",
       "      <td>U.S. state, territory, or outlying region</td>\n",
       "      <td>Yes, speaks only English</td>\n",
       "      <td>Employed</td>\n",
       "      <td>46000</td>\n",
       "      <td>South</td>\n",
       "      <td>East South Central</td>\n",
       "      <td>Same house</td>\n",
       "      <td>2020</td>\n",
       "      <td>Tennessee</td>\n",
       "    </tr>\n",
       "    <tr>\n",
       "      <th>2</th>\n",
       "      <td>34</td>\n",
       "      <td>Male</td>\n",
       "      <td>Married, spouse present</td>\n",
       "      <td>1 child present</td>\n",
       "      <td>3</td>\n",
       "      <td>Bachelorâ€™s degree</td>\n",
       "      <td>Bachelor degree</td>\n",
       "      <td>Associate or Bachelor degree</td>\n",
       "      <td>Non-Hispanic White</td>\n",
       "      <td>0</td>\n",
       "      <td>U.S. state, territory, or outlying region</td>\n",
       "      <td>Yes, speaks only English</td>\n",
       "      <td>Employed</td>\n",
       "      <td>45000</td>\n",
       "      <td>South</td>\n",
       "      <td>East South Central</td>\n",
       "      <td>Same house</td>\n",
       "      <td>2020</td>\n",
       "      <td>Tennessee</td>\n",
       "    </tr>\n",
       "    <tr>\n",
       "      <th>3</th>\n",
       "      <td>58</td>\n",
       "      <td>Female</td>\n",
       "      <td>Married, spouse absent</td>\n",
       "      <td>1 child present</td>\n",
       "      <td>2</td>\n",
       "      <td>1 or more years of college, no degree</td>\n",
       "      <td>1 or more years of college, no degree</td>\n",
       "      <td>1 or more years of college, no degree</td>\n",
       "      <td>Non-Hispanic White</td>\n",
       "      <td>0</td>\n",
       "      <td>U.S. state, territory, or outlying region</td>\n",
       "      <td>Yes, speaks only English</td>\n",
       "      <td>Employed</td>\n",
       "      <td>55000</td>\n",
       "      <td>South</td>\n",
       "      <td>East South Central</td>\n",
       "      <td>Same house</td>\n",
       "      <td>2020</td>\n",
       "      <td>Tennessee</td>\n",
       "    </tr>\n",
       "    <tr>\n",
       "      <th>4</th>\n",
       "      <td>39</td>\n",
       "      <td>Male</td>\n",
       "      <td>Never married/single</td>\n",
       "      <td>0 children present</td>\n",
       "      <td>1</td>\n",
       "      <td>Bachelorâ€™s degree</td>\n",
       "      <td>Bachelor degree</td>\n",
       "      <td>Associate or Bachelor degree</td>\n",
       "      <td>Non-Hispanic White</td>\n",
       "      <td>0</td>\n",
       "      <td>U.S. state, territory, or outlying region</td>\n",
       "      <td>Yes, speaks only English</td>\n",
       "      <td>Employed</td>\n",
       "      <td>12000</td>\n",
       "      <td>South</td>\n",
       "      <td>East South Central</td>\n",
       "      <td>Same house</td>\n",
       "      <td>2020</td>\n",
       "      <td>Tennessee</td>\n",
       "    </tr>\n",
       "    <tr>\n",
       "      <th>...</th>\n",
       "      <td>...</td>\n",
       "      <td>...</td>\n",
       "      <td>...</td>\n",
       "      <td>...</td>\n",
       "      <td>...</td>\n",
       "      <td>...</td>\n",
       "      <td>...</td>\n",
       "      <td>...</td>\n",
       "      <td>...</td>\n",
       "      <td>...</td>\n",
       "      <td>...</td>\n",
       "      <td>...</td>\n",
       "      <td>...</td>\n",
       "      <td>...</td>\n",
       "      <td>...</td>\n",
       "      <td>...</td>\n",
       "      <td>...</td>\n",
       "      <td>...</td>\n",
       "      <td>...</td>\n",
       "    </tr>\n",
       "    <tr>\n",
       "      <th>4360</th>\n",
       "      <td>67</td>\n",
       "      <td>Male</td>\n",
       "      <td>Married, spouse present</td>\n",
       "      <td>0 children present</td>\n",
       "      <td>2</td>\n",
       "      <td>Bachelorâ€™s degree</td>\n",
       "      <td>Bachelor degree</td>\n",
       "      <td>Associate or Bachelor degree</td>\n",
       "      <td>Non-Hispanic White</td>\n",
       "      <td>0</td>\n",
       "      <td>U.S. state, territory, or outlying region</td>\n",
       "      <td>Yes, speaks only English</td>\n",
       "      <td>Employed</td>\n",
       "      <td>40000</td>\n",
       "      <td>Midwest</td>\n",
       "      <td>West North Central</td>\n",
       "      <td>Same house</td>\n",
       "      <td>2020</td>\n",
       "      <td>North Dakota</td>\n",
       "    </tr>\n",
       "    <tr>\n",
       "      <th>4361</th>\n",
       "      <td>48</td>\n",
       "      <td>Male</td>\n",
       "      <td>Married, spouse present</td>\n",
       "      <td>4</td>\n",
       "      <td>6</td>\n",
       "      <td>Associateâ€™s degree</td>\n",
       "      <td>Associate degree</td>\n",
       "      <td>Associate or Bachelor degree</td>\n",
       "      <td>Non-Hispanic White</td>\n",
       "      <td>0</td>\n",
       "      <td>U.S. state, territory, or outlying region</td>\n",
       "      <td>Yes, speaks only English</td>\n",
       "      <td>Employed</td>\n",
       "      <td>65000</td>\n",
       "      <td>Midwest</td>\n",
       "      <td>West North Central</td>\n",
       "      <td>Same house</td>\n",
       "      <td>2020</td>\n",
       "      <td>North Dakota</td>\n",
       "    </tr>\n",
       "    <tr>\n",
       "      <th>4362</th>\n",
       "      <td>33</td>\n",
       "      <td>Male</td>\n",
       "      <td>Married, spouse absent</td>\n",
       "      <td>0 children present</td>\n",
       "      <td>1</td>\n",
       "      <td>Associateâ€™s degree</td>\n",
       "      <td>Associate degree</td>\n",
       "      <td>Associate or Bachelor degree</td>\n",
       "      <td>Non-Hispanic Black</td>\n",
       "      <td>2017</td>\n",
       "      <td>Africa</td>\n",
       "      <td>Yes, speaks very well</td>\n",
       "      <td>Employed</td>\n",
       "      <td>45000</td>\n",
       "      <td>Midwest</td>\n",
       "      <td>West North Central</td>\n",
       "      <td>Same house</td>\n",
       "      <td>2020</td>\n",
       "      <td>North Dakota</td>\n",
       "    </tr>\n",
       "    <tr>\n",
       "      <th>4363</th>\n",
       "      <td>22</td>\n",
       "      <td>Female</td>\n",
       "      <td>Never married/single</td>\n",
       "      <td>0 children present</td>\n",
       "      <td>2</td>\n",
       "      <td>1 or more years of college, no degree</td>\n",
       "      <td>1 or more years of college, no degree</td>\n",
       "      <td>1 or more years of college, no degree</td>\n",
       "      <td>Non-Hispanic White</td>\n",
       "      <td>0</td>\n",
       "      <td>U.S. state, territory, or outlying region</td>\n",
       "      <td>Yes, speaks only English</td>\n",
       "      <td>Employed</td>\n",
       "      <td>500</td>\n",
       "      <td>Midwest</td>\n",
       "      <td>West North Central</td>\n",
       "      <td>Same house</td>\n",
       "      <td>2020</td>\n",
       "      <td>North Dakota</td>\n",
       "    </tr>\n",
       "    <tr>\n",
       "      <th>4364</th>\n",
       "      <td>49</td>\n",
       "      <td>Female</td>\n",
       "      <td>Married, spouse present</td>\n",
       "      <td>2</td>\n",
       "      <td>4</td>\n",
       "      <td>Masterâ€™s or professional degree</td>\n",
       "      <td>Master or professional degree</td>\n",
       "      <td>Master or PhD or professional degree</td>\n",
       "      <td>Non-Hispanic White</td>\n",
       "      <td>0</td>\n",
       "      <td>U.S. state, territory, or outlying region</td>\n",
       "      <td>Yes, speaks only English</td>\n",
       "      <td>Employed</td>\n",
       "      <td>498000</td>\n",
       "      <td>Midwest</td>\n",
       "      <td>West North Central</td>\n",
       "      <td>Same house</td>\n",
       "      <td>2020</td>\n",
       "      <td>North Dakota</td>\n",
       "    </tr>\n",
       "  </tbody>\n",
       "</table>\n",
       "<p>4365 rows × 19 columns</p>\n",
       "</div>"
      ],
      "text/plain": [
       "      Age     Sex           Marital_status  Number_of_children  Family_size  \\\n",
       "0      30    Male  Married, spouse present                   2            4   \n",
       "1      28  Female  Married, spouse present     1 child present            3   \n",
       "2      34    Male  Married, spouse present     1 child present            3   \n",
       "3      58  Female   Married, spouse absent     1 child present            2   \n",
       "4      39    Male     Never married/single  0 children present            1   \n",
       "...   ...     ...                      ...                 ...          ...   \n",
       "4360   67    Male  Married, spouse present  0 children present            2   \n",
       "4361   48    Male  Married, spouse present                   4            6   \n",
       "4362   33    Male   Married, spouse absent  0 children present            1   \n",
       "4363   22  Female     Never married/single  0 children present            2   \n",
       "4364   49  Female  Married, spouse present                   2            4   \n",
       "\n",
       "                    Education-degree_recode  \\\n",
       "0         Masterâ€™s or professional degree   \n",
       "1         Masterâ€™s or professional degree   \n",
       "2                       Bachelorâ€™s degree   \n",
       "3     1 or more years of college, no degree   \n",
       "4                       Bachelorâ€™s degree   \n",
       "...                                     ...   \n",
       "4360                    Bachelorâ€™s degree   \n",
       "4361                   Associateâ€™s degree   \n",
       "4362                   Associateâ€™s degree   \n",
       "4363  1 or more years of college, no degree   \n",
       "4364      Masterâ€™s or professional degree   \n",
       "\n",
       "                  Education-degree_recode 2  \\\n",
       "0             Master or professional degree   \n",
       "1             Master or professional degree   \n",
       "2                           Bachelor degree   \n",
       "3     1 or more years of college, no degree   \n",
       "4                           Bachelor degree   \n",
       "...                                     ...   \n",
       "4360                        Bachelor degree   \n",
       "4361                       Associate degree   \n",
       "4362                       Associate degree   \n",
       "4363  1 or more years of college, no degree   \n",
       "4364          Master or professional degree   \n",
       "\n",
       "                                  Education Race_ethnicity-multi_recode  \\\n",
       "0      Master or PhD or professional degree          Non-Hispanic White   \n",
       "1      Master or PhD or professional degree          Non-Hispanic White   \n",
       "2              Associate or Bachelor degree          Non-Hispanic White   \n",
       "3     1 or more years of college, no degree          Non-Hispanic White   \n",
       "4              Associate or Bachelor degree          Non-Hispanic White   \n",
       "...                                     ...                         ...   \n",
       "4360           Associate or Bachelor degree          Non-Hispanic White   \n",
       "4361           Associate or Bachelor degree          Non-Hispanic White   \n",
       "4362           Associate or Bachelor degree          Non-Hispanic Black   \n",
       "4363  1 or more years of college, no degree          Non-Hispanic White   \n",
       "4364   Master or PhD or professional degree          Non-Hispanic White   \n",
       "\n",
       "      Immigrate-year                          Birthplace_recode  \\\n",
       "0                  0  U.S. state, territory, or outlying region   \n",
       "1                  0  U.S. state, territory, or outlying region   \n",
       "2                  0  U.S. state, territory, or outlying region   \n",
       "3                  0  U.S. state, territory, or outlying region   \n",
       "4                  0  U.S. state, territory, or outlying region   \n",
       "...              ...                                        ...   \n",
       "4360               0  U.S. state, territory, or outlying region   \n",
       "4361               0  U.S. state, territory, or outlying region   \n",
       "4362            2017                                     Africa   \n",
       "4363               0  U.S. state, territory, or outlying region   \n",
       "4364               0  U.S. state, territory, or outlying region   \n",
       "\n",
       "                Speaks_English Employment_status  Income-wages Region_recode  \\\n",
       "0     Yes, speaks only English          Employed         63000         South   \n",
       "1     Yes, speaks only English          Employed         46000         South   \n",
       "2     Yes, speaks only English          Employed         45000         South   \n",
       "3     Yes, speaks only English          Employed         55000         South   \n",
       "4     Yes, speaks only English          Employed         12000         South   \n",
       "...                        ...               ...           ...           ...   \n",
       "4360  Yes, speaks only English          Employed         40000       Midwest   \n",
       "4361  Yes, speaks only English          Employed         65000       Midwest   \n",
       "4362     Yes, speaks very well          Employed         45000       Midwest   \n",
       "4363  Yes, speaks only English          Employed           500       Midwest   \n",
       "4364  Yes, speaks only English          Employed        498000       Midwest   \n",
       "\n",
       "     Region-division_recode       Moved  Year         state  \n",
       "0        East South Central  Same house  2020     Tennessee  \n",
       "1        East South Central  Same house  2020     Tennessee  \n",
       "2        East South Central  Same house  2020     Tennessee  \n",
       "3        East South Central  Same house  2020     Tennessee  \n",
       "4        East South Central  Same house  2020     Tennessee  \n",
       "...                     ...         ...   ...           ...  \n",
       "4360     West North Central  Same house  2020  North Dakota  \n",
       "4361     West North Central  Same house  2020  North Dakota  \n",
       "4362     West North Central  Same house  2020  North Dakota  \n",
       "4363     West North Central  Same house  2020  North Dakota  \n",
       "4364     West North Central  Same house  2020  North Dakota  \n",
       "\n",
       "[4365 rows x 19 columns]"
      ]
     },
     "execution_count": 55,
     "metadata": {},
     "output_type": "execute_result"
    }
   ],
   "source": [
    "wage = pd.read_excel(\"Wages 2020Census cleaned.xlsx\")\n",
    "wage"
   ]
  },
  {
   "cell_type": "code",
   "execution_count": 57,
   "id": "7d3f2368-5ebd-4afa-b787-3a6d820b92b2",
   "metadata": {},
   "outputs": [
    {
     "data": {
      "text/html": [
       "<div>\n",
       "<style scoped>\n",
       "    .dataframe tbody tr th:only-of-type {\n",
       "        vertical-align: middle;\n",
       "    }\n",
       "\n",
       "    .dataframe tbody tr th {\n",
       "        vertical-align: top;\n",
       "    }\n",
       "\n",
       "    .dataframe thead th {\n",
       "        text-align: right;\n",
       "    }\n",
       "</style>\n",
       "<table border=\"1\" class=\"dataframe\">\n",
       "  <thead>\n",
       "    <tr style=\"text-align: right;\">\n",
       "      <th></th>\n",
       "      <th>Age</th>\n",
       "      <th>Sex</th>\n",
       "      <th>Marital_status</th>\n",
       "      <th>Number_of_children</th>\n",
       "      <th>Family_size</th>\n",
       "      <th>Education-degree_recode</th>\n",
       "      <th>Education-degree_recode 2</th>\n",
       "      <th>Education</th>\n",
       "      <th>Race_ethnicity-multi_recode</th>\n",
       "      <th>Immigrate-year</th>\n",
       "      <th>Birthplace_recode</th>\n",
       "      <th>Speaks_English</th>\n",
       "      <th>Employment_status</th>\n",
       "      <th>Income-wages</th>\n",
       "      <th>Region_recode</th>\n",
       "      <th>Region-division_recode</th>\n",
       "      <th>Moved</th>\n",
       "      <th>Year</th>\n",
       "      <th>state</th>\n",
       "    </tr>\n",
       "  </thead>\n",
       "  <tbody>\n",
       "    <tr>\n",
       "      <th>0</th>\n",
       "      <td>30</td>\n",
       "      <td>Male</td>\n",
       "      <td>Married, spouse present</td>\n",
       "      <td>2</td>\n",
       "      <td>4</td>\n",
       "      <td>Masterâ€™s or professional degree</td>\n",
       "      <td>Master or professional degree</td>\n",
       "      <td>Master or PhD or professional degree</td>\n",
       "      <td>Non-Hispanic White</td>\n",
       "      <td>0</td>\n",
       "      <td>U.S. state, territory, or outlying region</td>\n",
       "      <td>Yes, speaks only English</td>\n",
       "      <td>Employed</td>\n",
       "      <td>63000</td>\n",
       "      <td>South</td>\n",
       "      <td>East South Central</td>\n",
       "      <td>Same house</td>\n",
       "      <td>2020</td>\n",
       "      <td>Tennessee</td>\n",
       "    </tr>\n",
       "    <tr>\n",
       "      <th>1</th>\n",
       "      <td>28</td>\n",
       "      <td>Female</td>\n",
       "      <td>Married, spouse present</td>\n",
       "      <td>1 child present</td>\n",
       "      <td>3</td>\n",
       "      <td>Masterâ€™s or professional degree</td>\n",
       "      <td>Master or professional degree</td>\n",
       "      <td>Master or PhD or professional degree</td>\n",
       "      <td>Non-Hispanic White</td>\n",
       "      <td>0</td>\n",
       "      <td>U.S. state, territory, or outlying region</td>\n",
       "      <td>Yes, speaks only English</td>\n",
       "      <td>Employed</td>\n",
       "      <td>46000</td>\n",
       "      <td>South</td>\n",
       "      <td>East South Central</td>\n",
       "      <td>Same house</td>\n",
       "      <td>2020</td>\n",
       "      <td>Tennessee</td>\n",
       "    </tr>\n",
       "    <tr>\n",
       "      <th>2</th>\n",
       "      <td>34</td>\n",
       "      <td>Male</td>\n",
       "      <td>Married, spouse present</td>\n",
       "      <td>1 child present</td>\n",
       "      <td>3</td>\n",
       "      <td>Bachelorâ€™s degree</td>\n",
       "      <td>Bachelor degree</td>\n",
       "      <td>Associate or Bachelor degree</td>\n",
       "      <td>Non-Hispanic White</td>\n",
       "      <td>0</td>\n",
       "      <td>U.S. state, territory, or outlying region</td>\n",
       "      <td>Yes, speaks only English</td>\n",
       "      <td>Employed</td>\n",
       "      <td>45000</td>\n",
       "      <td>South</td>\n",
       "      <td>East South Central</td>\n",
       "      <td>Same house</td>\n",
       "      <td>2020</td>\n",
       "      <td>Tennessee</td>\n",
       "    </tr>\n",
       "    <tr>\n",
       "      <th>3</th>\n",
       "      <td>58</td>\n",
       "      <td>Female</td>\n",
       "      <td>Married, spouse absent</td>\n",
       "      <td>1 child present</td>\n",
       "      <td>2</td>\n",
       "      <td>1 or more years of college, no degree</td>\n",
       "      <td>1 or more years of college, no degree</td>\n",
       "      <td>1 or more years of college, no degree</td>\n",
       "      <td>Non-Hispanic White</td>\n",
       "      <td>0</td>\n",
       "      <td>U.S. state, territory, or outlying region</td>\n",
       "      <td>Yes, speaks only English</td>\n",
       "      <td>Employed</td>\n",
       "      <td>55000</td>\n",
       "      <td>South</td>\n",
       "      <td>East South Central</td>\n",
       "      <td>Same house</td>\n",
       "      <td>2020</td>\n",
       "      <td>Tennessee</td>\n",
       "    </tr>\n",
       "    <tr>\n",
       "      <th>4</th>\n",
       "      <td>39</td>\n",
       "      <td>Male</td>\n",
       "      <td>Never married/single</td>\n",
       "      <td>0 children present</td>\n",
       "      <td>1</td>\n",
       "      <td>Bachelorâ€™s degree</td>\n",
       "      <td>Bachelor degree</td>\n",
       "      <td>Associate or Bachelor degree</td>\n",
       "      <td>Non-Hispanic White</td>\n",
       "      <td>0</td>\n",
       "      <td>U.S. state, territory, or outlying region</td>\n",
       "      <td>Yes, speaks only English</td>\n",
       "      <td>Employed</td>\n",
       "      <td>12000</td>\n",
       "      <td>South</td>\n",
       "      <td>East South Central</td>\n",
       "      <td>Same house</td>\n",
       "      <td>2020</td>\n",
       "      <td>Tennessee</td>\n",
       "    </tr>\n",
       "  </tbody>\n",
       "</table>\n",
       "</div>"
      ],
      "text/plain": [
       "   Age     Sex           Marital_status  Number_of_children  Family_size  \\\n",
       "0   30    Male  Married, spouse present                   2            4   \n",
       "1   28  Female  Married, spouse present     1 child present            3   \n",
       "2   34    Male  Married, spouse present     1 child present            3   \n",
       "3   58  Female   Married, spouse absent     1 child present            2   \n",
       "4   39    Male     Never married/single  0 children present            1   \n",
       "\n",
       "                 Education-degree_recode  \\\n",
       "0      Masterâ€™s or professional degree   \n",
       "1      Masterâ€™s or professional degree   \n",
       "2                    Bachelorâ€™s degree   \n",
       "3  1 or more years of college, no degree   \n",
       "4                    Bachelorâ€™s degree   \n",
       "\n",
       "               Education-degree_recode 2  \\\n",
       "0          Master or professional degree   \n",
       "1          Master or professional degree   \n",
       "2                        Bachelor degree   \n",
       "3  1 or more years of college, no degree   \n",
       "4                        Bachelor degree   \n",
       "\n",
       "                               Education Race_ethnicity-multi_recode  \\\n",
       "0   Master or PhD or professional degree          Non-Hispanic White   \n",
       "1   Master or PhD or professional degree          Non-Hispanic White   \n",
       "2           Associate or Bachelor degree          Non-Hispanic White   \n",
       "3  1 or more years of college, no degree          Non-Hispanic White   \n",
       "4           Associate or Bachelor degree          Non-Hispanic White   \n",
       "\n",
       "   Immigrate-year                          Birthplace_recode  \\\n",
       "0               0  U.S. state, territory, or outlying region   \n",
       "1               0  U.S. state, territory, or outlying region   \n",
       "2               0  U.S. state, territory, or outlying region   \n",
       "3               0  U.S. state, territory, or outlying region   \n",
       "4               0  U.S. state, territory, or outlying region   \n",
       "\n",
       "             Speaks_English Employment_status  Income-wages Region_recode  \\\n",
       "0  Yes, speaks only English          Employed         63000         South   \n",
       "1  Yes, speaks only English          Employed         46000         South   \n",
       "2  Yes, speaks only English          Employed         45000         South   \n",
       "3  Yes, speaks only English          Employed         55000         South   \n",
       "4  Yes, speaks only English          Employed         12000         South   \n",
       "\n",
       "  Region-division_recode       Moved  Year      state  \n",
       "0     East South Central  Same house  2020  Tennessee  \n",
       "1     East South Central  Same house  2020  Tennessee  \n",
       "2     East South Central  Same house  2020  Tennessee  \n",
       "3     East South Central  Same house  2020  Tennessee  \n",
       "4     East South Central  Same house  2020  Tennessee  "
      ]
     },
     "execution_count": 57,
     "metadata": {},
     "output_type": "execute_result"
    }
   ],
   "source": [
    "wage.head()"
   ]
  },
  {
   "cell_type": "code",
   "execution_count": 59,
   "id": "1f7945ed-bc65-4829-b3b7-4fd3e7bebc60",
   "metadata": {},
   "outputs": [
    {
     "data": {
      "text/html": [
       "<div>\n",
       "<style scoped>\n",
       "    .dataframe tbody tr th:only-of-type {\n",
       "        vertical-align: middle;\n",
       "    }\n",
       "\n",
       "    .dataframe tbody tr th {\n",
       "        vertical-align: top;\n",
       "    }\n",
       "\n",
       "    .dataframe thead th {\n",
       "        text-align: right;\n",
       "    }\n",
       "</style>\n",
       "<table border=\"1\" class=\"dataframe\">\n",
       "  <thead>\n",
       "    <tr style=\"text-align: right;\">\n",
       "      <th></th>\n",
       "      <th>Age</th>\n",
       "      <th>Sex</th>\n",
       "      <th>Marital_status</th>\n",
       "      <th>Number_of_children</th>\n",
       "      <th>Family_size</th>\n",
       "      <th>Education-degree_recode</th>\n",
       "      <th>Education-degree_recode 2</th>\n",
       "      <th>Education</th>\n",
       "      <th>Race_ethnicity-multi_recode</th>\n",
       "      <th>Immigrate-year</th>\n",
       "      <th>Birthplace_recode</th>\n",
       "      <th>Speaks_English</th>\n",
       "      <th>Employment_status</th>\n",
       "      <th>Income-wages</th>\n",
       "      <th>Region_recode</th>\n",
       "      <th>Region-division_recode</th>\n",
       "      <th>Moved</th>\n",
       "      <th>Year</th>\n",
       "      <th>state</th>\n",
       "    </tr>\n",
       "  </thead>\n",
       "  <tbody>\n",
       "    <tr>\n",
       "      <th>4360</th>\n",
       "      <td>67</td>\n",
       "      <td>Male</td>\n",
       "      <td>Married, spouse present</td>\n",
       "      <td>0 children present</td>\n",
       "      <td>2</td>\n",
       "      <td>Bachelorâ€™s degree</td>\n",
       "      <td>Bachelor degree</td>\n",
       "      <td>Associate or Bachelor degree</td>\n",
       "      <td>Non-Hispanic White</td>\n",
       "      <td>0</td>\n",
       "      <td>U.S. state, territory, or outlying region</td>\n",
       "      <td>Yes, speaks only English</td>\n",
       "      <td>Employed</td>\n",
       "      <td>40000</td>\n",
       "      <td>Midwest</td>\n",
       "      <td>West North Central</td>\n",
       "      <td>Same house</td>\n",
       "      <td>2020</td>\n",
       "      <td>North Dakota</td>\n",
       "    </tr>\n",
       "    <tr>\n",
       "      <th>4361</th>\n",
       "      <td>48</td>\n",
       "      <td>Male</td>\n",
       "      <td>Married, spouse present</td>\n",
       "      <td>4</td>\n",
       "      <td>6</td>\n",
       "      <td>Associateâ€™s degree</td>\n",
       "      <td>Associate degree</td>\n",
       "      <td>Associate or Bachelor degree</td>\n",
       "      <td>Non-Hispanic White</td>\n",
       "      <td>0</td>\n",
       "      <td>U.S. state, territory, or outlying region</td>\n",
       "      <td>Yes, speaks only English</td>\n",
       "      <td>Employed</td>\n",
       "      <td>65000</td>\n",
       "      <td>Midwest</td>\n",
       "      <td>West North Central</td>\n",
       "      <td>Same house</td>\n",
       "      <td>2020</td>\n",
       "      <td>North Dakota</td>\n",
       "    </tr>\n",
       "    <tr>\n",
       "      <th>4362</th>\n",
       "      <td>33</td>\n",
       "      <td>Male</td>\n",
       "      <td>Married, spouse absent</td>\n",
       "      <td>0 children present</td>\n",
       "      <td>1</td>\n",
       "      <td>Associateâ€™s degree</td>\n",
       "      <td>Associate degree</td>\n",
       "      <td>Associate or Bachelor degree</td>\n",
       "      <td>Non-Hispanic Black</td>\n",
       "      <td>2017</td>\n",
       "      <td>Africa</td>\n",
       "      <td>Yes, speaks very well</td>\n",
       "      <td>Employed</td>\n",
       "      <td>45000</td>\n",
       "      <td>Midwest</td>\n",
       "      <td>West North Central</td>\n",
       "      <td>Same house</td>\n",
       "      <td>2020</td>\n",
       "      <td>North Dakota</td>\n",
       "    </tr>\n",
       "    <tr>\n",
       "      <th>4363</th>\n",
       "      <td>22</td>\n",
       "      <td>Female</td>\n",
       "      <td>Never married/single</td>\n",
       "      <td>0 children present</td>\n",
       "      <td>2</td>\n",
       "      <td>1 or more years of college, no degree</td>\n",
       "      <td>1 or more years of college, no degree</td>\n",
       "      <td>1 or more years of college, no degree</td>\n",
       "      <td>Non-Hispanic White</td>\n",
       "      <td>0</td>\n",
       "      <td>U.S. state, territory, or outlying region</td>\n",
       "      <td>Yes, speaks only English</td>\n",
       "      <td>Employed</td>\n",
       "      <td>500</td>\n",
       "      <td>Midwest</td>\n",
       "      <td>West North Central</td>\n",
       "      <td>Same house</td>\n",
       "      <td>2020</td>\n",
       "      <td>North Dakota</td>\n",
       "    </tr>\n",
       "    <tr>\n",
       "      <th>4364</th>\n",
       "      <td>49</td>\n",
       "      <td>Female</td>\n",
       "      <td>Married, spouse present</td>\n",
       "      <td>2</td>\n",
       "      <td>4</td>\n",
       "      <td>Masterâ€™s or professional degree</td>\n",
       "      <td>Master or professional degree</td>\n",
       "      <td>Master or PhD or professional degree</td>\n",
       "      <td>Non-Hispanic White</td>\n",
       "      <td>0</td>\n",
       "      <td>U.S. state, territory, or outlying region</td>\n",
       "      <td>Yes, speaks only English</td>\n",
       "      <td>Employed</td>\n",
       "      <td>498000</td>\n",
       "      <td>Midwest</td>\n",
       "      <td>West North Central</td>\n",
       "      <td>Same house</td>\n",
       "      <td>2020</td>\n",
       "      <td>North Dakota</td>\n",
       "    </tr>\n",
       "  </tbody>\n",
       "</table>\n",
       "</div>"
      ],
      "text/plain": [
       "      Age     Sex           Marital_status  Number_of_children  Family_size  \\\n",
       "4360   67    Male  Married, spouse present  0 children present            2   \n",
       "4361   48    Male  Married, spouse present                   4            6   \n",
       "4362   33    Male   Married, spouse absent  0 children present            1   \n",
       "4363   22  Female     Never married/single  0 children present            2   \n",
       "4364   49  Female  Married, spouse present                   2            4   \n",
       "\n",
       "                    Education-degree_recode  \\\n",
       "4360                    Bachelorâ€™s degree   \n",
       "4361                   Associateâ€™s degree   \n",
       "4362                   Associateâ€™s degree   \n",
       "4363  1 or more years of college, no degree   \n",
       "4364      Masterâ€™s or professional degree   \n",
       "\n",
       "                  Education-degree_recode 2  \\\n",
       "4360                        Bachelor degree   \n",
       "4361                       Associate degree   \n",
       "4362                       Associate degree   \n",
       "4363  1 or more years of college, no degree   \n",
       "4364          Master or professional degree   \n",
       "\n",
       "                                  Education Race_ethnicity-multi_recode  \\\n",
       "4360           Associate or Bachelor degree          Non-Hispanic White   \n",
       "4361           Associate or Bachelor degree          Non-Hispanic White   \n",
       "4362           Associate or Bachelor degree          Non-Hispanic Black   \n",
       "4363  1 or more years of college, no degree          Non-Hispanic White   \n",
       "4364   Master or PhD or professional degree          Non-Hispanic White   \n",
       "\n",
       "      Immigrate-year                          Birthplace_recode  \\\n",
       "4360               0  U.S. state, territory, or outlying region   \n",
       "4361               0  U.S. state, territory, or outlying region   \n",
       "4362            2017                                     Africa   \n",
       "4363               0  U.S. state, territory, or outlying region   \n",
       "4364               0  U.S. state, territory, or outlying region   \n",
       "\n",
       "                Speaks_English Employment_status  Income-wages Region_recode  \\\n",
       "4360  Yes, speaks only English          Employed         40000       Midwest   \n",
       "4361  Yes, speaks only English          Employed         65000       Midwest   \n",
       "4362     Yes, speaks very well          Employed         45000       Midwest   \n",
       "4363  Yes, speaks only English          Employed           500       Midwest   \n",
       "4364  Yes, speaks only English          Employed        498000       Midwest   \n",
       "\n",
       "     Region-division_recode       Moved  Year         state  \n",
       "4360     West North Central  Same house  2020  North Dakota  \n",
       "4361     West North Central  Same house  2020  North Dakota  \n",
       "4362     West North Central  Same house  2020  North Dakota  \n",
       "4363     West North Central  Same house  2020  North Dakota  \n",
       "4364     West North Central  Same house  2020  North Dakota  "
      ]
     },
     "execution_count": 59,
     "metadata": {},
     "output_type": "execute_result"
    }
   ],
   "source": [
    "wage.tail()"
   ]
  },
  {
   "cell_type": "code",
   "execution_count": 61,
   "id": "7205df36-bfe1-4840-a83d-7c2033866cf4",
   "metadata": {},
   "outputs": [
    {
     "name": "stdout",
     "output_type": "stream",
     "text": [
      "Mean yearly income: $58,704.16\n",
      "Median yearly income: $41,000.00\n"
     ]
    }
   ],
   "source": [
    "mean_income = wage['Income-wages'].mean()\n",
    "median_income = wage['Income-wages'].median()\n",
    "print(f\"Mean yearly income: ${mean_income:,.2f}\")\n",
    "print(f\"Median yearly income: ${median_income:,.2f}\")"
   ]
  },
  {
   "cell_type": "markdown",
   "id": "a57bdb86-0976-40f7-a39a-169c266e0463",
   "metadata": {},
   "source": [
    "##### (b) Do the yearly incomes of these 4,365 people vary? How do you know? (2 marks)"
   ]
  },
  {
   "cell_type": "code",
   "execution_count": 64,
   "id": "4b0097d2-f937-4add-9469-b07ad59f673d",
   "metadata": {},
   "outputs": [
    {
     "name": "stdout",
     "output_type": "stream",
     "text": [
      "Standard Deviation of yearly income: $68,338.06\n",
      "Variance of yearly income: $4,670,090,640.72\n"
     ]
    }
   ],
   "source": [
    "# Calculate standard deviation\n",
    "std_dev = wage['Income-wages'].std() # you calculate the standard deviation and varience\n",
    "variance = wage['Income-wages'].var()# variance of the wage_income\n",
    "print(f\"Standard Deviation of yearly income: ${std_dev:,.2f}\")\n",
    "print(f\"Variance of yearly income: ${variance:,.2f}\")"
   ]
  },
  {
   "cell_type": "markdown",
   "id": "bff22032-9bff-4381-a7ae-582016d72178",
   "metadata": {},
   "source": [
    "##### (c) What would the values of the standard deviation and IQR be if there was no variability in\n",
    "##### yearly income for these 4,365 people? (5 marks)"
   ]
  },
  {
   "cell_type": "code",
   "execution_count": 67,
   "id": "b04d9fd6-23f8-4bc2-97a1-7d1757594c7f",
   "metadata": {},
   "outputs": [],
   "source": [
    "import seaborn as sns\n",
    "import matplotlib.pyplot as plt"
   ]
  },
  {
   "cell_type": "code",
   "execution_count": 69,
   "id": "4023fb68-7c2d-43d1-925b-b1cba597f844",
   "metadata": {},
   "outputs": [
    {
     "name": "stdout",
     "output_type": "stream",
     "text": [
      "0\n",
      "0\n"
     ]
    }
   ],
   "source": [
    "no_variability_std_dev = 0     ## This means 0 variability_standard deviation\n",
    "no_variability_IQR = 0          ##  This means 0 variability_IQR\n",
    "print(no_variability_std_dev)\n",
    "print(no_variability_IQR)"
   ]
  },
  {
   "cell_type": "markdown",
   "id": "b3d584f7-24a9-4803-90be-93e38cf5ada7",
   "metadata": {},
   "source": [
    "##### (d) What would the values of the mean, median, Q1, Q3, minimum and maximum yearly incomes\n",
    "##### be if there was no variability? (5 marks)"
   ]
  },
  {
   "cell_type": "code",
   "execution_count": 72,
   "id": "035c1f9f-93c6-4ace-ba4e-b98f43b7215c",
   "metadata": {},
   "outputs": [
    {
     "name": "stdout",
     "output_type": "stream",
     "text": [
      "Mean income: $58,704.16\n",
      "Median income: $41,000.00\n",
      "Q1: $22,000.00\n",
      "Q3: $71,000.00\n",
      "Minimum income: $30.00\n",
      "Maximum income: $661,000.00\n"
     ]
    }
   ],
   "source": [
    "no_variability_mean = wage['Income-wages'].mean()   ## finds the mean\n",
    "no_variability_median = wage['Income-wages'].median()   ## finds the median\n",
    "no_variability_min = wage['Income-wages'].min()   ## finds the minimum value\n",
    "no_variability_max = wage['Income-wages'].max()   ## finds the maxmum value\n",
    "no_variability_Q1 = wage['Income-wages'].quantile(0.25) ## defines the Q1\n",
    "no_variability_Q3 = wage['Income-wages'].quantile(0.75)  ## defines Q3\n",
    "print(f\"Mean income: ${no_variability_mean:,.2f}\")\n",
    "print(f\"Median income: ${no_variability_median:,.2f}\")\n",
    "print(f\"Q1: ${no_variability_Q1:,.2f}\")                     ### THESE CODES PRINT OUT ACCORDINGLY\n",
    "print(f\"Q3: ${no_variability_Q3:,.2f}\")\n",
    "print(f\"Minimum income: ${no_variability_min:,.2f}\")\n",
    "print(f\"Maximum income: ${no_variability_max:,.2f}\")"
   ]
  },
  {
   "cell_type": "markdown",
   "id": "14c8dc35-df92-4342-ade9-b45adef2008f",
   "metadata": {},
   "source": [
    "##### (e) What do you think are some possible causes or reasons or potential sources of the variability in\n",
    "##### the yearly incomes of these 4,365 people? (Hint: Perform bivariate analysis leveraging boxplots\n",
    "##### between response variable and education level, region of the US. Provide an explanation of your\n",
    "##### thinking with numerical support) (5 marks)"
   ]
  },
  {
   "cell_type": "code",
   "execution_count": 75,
   "id": "c06a0df0-6cf3-42a2-949f-155b83cd91b2",
   "metadata": {},
   "outputs": [
    {
     "data": {
      "image/png": "[encoded data removed]",
      "text/plain": [
       "<Figure size 1000x600 with 1 Axes>"
      ]
     },
     "metadata": {},
     "output_type": "display_data"
    }
   ],
   "source": [
    "plt.figure(figsize=(10, 6)) #  a boxplot to visualize income distribution based on education level\n",
    "sns.boxplot(data=wage, x ='Education', y='Income-wages')  ### code used to plot out the graph\n",
    "plt.title('Income distribution by Education Level')  ## title of the graph\n",
    "plt.xticks(rotation=45)  ## ticks on the x axis\n",
    "plt.show()"
   ]
  },
  {
   "cell_type": "markdown",
   "id": "57c6cac9-4bbb-4e28-ab2c-29a16de0dcfc",
   "metadata": {},
   "source": [
    "# QUESTION 2"
   ]
  },
  {
   "cell_type": "markdown",
   "id": "36cb180a-3b16-4823-afa0-46d39ad7ea12",
   "metadata": {},
   "source": [
    "#### Exploratory Data Analysis: The student performance dataset provides a detailed overview of\n",
    "#### student performance in various schools, focusing on academic achievements and demographic factors."
   ]
  },
  {
   "cell_type": "markdown",
   "id": "b34acc17-166a-4fc6-bccf-1e5ca9a0829b",
   "metadata": {},
   "source": [
    "##### (a) For each gender, which major has the highest total study hours per week? (2 marks)"
   ]
  },
  {
   "cell_type": "code",
   "execution_count": 80,
   "id": "a2462728-6349-41bb-84a0-7ea244fcca98",
   "metadata": {},
   "outputs": [],
   "source": [
    "import pandas as pd"
   ]
  },
  {
   "cell_type": "code",
   "execution_count": 82,
   "id": "ab25148c-23c9-429b-ad03-e5432b1e92a4",
   "metadata": {},
   "outputs": [],
   "source": [
    "import numpy as np"
   ]
  },
  {
   "cell_type": "code",
   "execution_count": 84,
   "id": "101eb0b0-bf8b-47d1-acd0-8988f4dc4a7b",
   "metadata": {},
   "outputs": [],
   "source": [
    "import matplotlib.pyplot as plt"
   ]
  },
  {
   "cell_type": "code",
   "execution_count": 86,
   "id": "86a9222f-0404-4ef5-8e03-9136508dbe8a",
   "metadata": {},
   "outputs": [
    {
     "data": {
      "text/html": [
       "<div>\n",
       "<style scoped>\n",
       "    .dataframe tbody tr th:only-of-type {\n",
       "        vertical-align: middle;\n",
       "    }\n",
       "\n",
       "    .dataframe tbody tr th {\n",
       "        vertical-align: top;\n",
       "    }\n",
       "\n",
       "    .dataframe thead th {\n",
       "        text-align: right;\n",
       "    }\n",
       "</style>\n",
       "<table border=\"1\" class=\"dataframe\">\n",
       "  <thead>\n",
       "    <tr style=\"text-align: right;\">\n",
       "      <th></th>\n",
       "      <th>StudentID</th>\n",
       "      <th>Gender</th>\n",
       "      <th>Age</th>\n",
       "      <th>StudyHoursPerWeek</th>\n",
       "      <th>AttendanceRate</th>\n",
       "      <th>GPA</th>\n",
       "      <th>Major</th>\n",
       "      <th>PartTimeJob</th>\n",
       "      <th>ExtraCurricularActivities</th>\n",
       "    </tr>\n",
       "  </thead>\n",
       "  <tbody>\n",
       "    <tr>\n",
       "      <th>0</th>\n",
       "      <td>1</td>\n",
       "      <td>Male</td>\n",
       "      <td>24</td>\n",
       "      <td>37</td>\n",
       "      <td>90.75</td>\n",
       "      <td>3.47</td>\n",
       "      <td>Arts</td>\n",
       "      <td>Yes</td>\n",
       "      <td>No</td>\n",
       "    </tr>\n",
       "    <tr>\n",
       "      <th>1</th>\n",
       "      <td>2</td>\n",
       "      <td>Female</td>\n",
       "      <td>22</td>\n",
       "      <td>37</td>\n",
       "      <td>74.90</td>\n",
       "      <td>2.32</td>\n",
       "      <td>Education</td>\n",
       "      <td>No</td>\n",
       "      <td>No</td>\n",
       "    </tr>\n",
       "    <tr>\n",
       "      <th>2</th>\n",
       "      <td>3</td>\n",
       "      <td>Male</td>\n",
       "      <td>22</td>\n",
       "      <td>10</td>\n",
       "      <td>53.36</td>\n",
       "      <td>2.38</td>\n",
       "      <td>Business</td>\n",
       "      <td>No</td>\n",
       "      <td>No</td>\n",
       "    </tr>\n",
       "    <tr>\n",
       "      <th>3</th>\n",
       "      <td>4</td>\n",
       "      <td>Male</td>\n",
       "      <td>24</td>\n",
       "      <td>10</td>\n",
       "      <td>70.26</td>\n",
       "      <td>3.46</td>\n",
       "      <td>Science</td>\n",
       "      <td>Yes</td>\n",
       "      <td>No</td>\n",
       "    </tr>\n",
       "    <tr>\n",
       "      <th>4</th>\n",
       "      <td>5</td>\n",
       "      <td>Male</td>\n",
       "      <td>18</td>\n",
       "      <td>19</td>\n",
       "      <td>74.87</td>\n",
       "      <td>2.31</td>\n",
       "      <td>Education</td>\n",
       "      <td>Yes</td>\n",
       "      <td>No</td>\n",
       "    </tr>\n",
       "    <tr>\n",
       "      <th>...</th>\n",
       "      <td>...</td>\n",
       "      <td>...</td>\n",
       "      <td>...</td>\n",
       "      <td>...</td>\n",
       "      <td>...</td>\n",
       "      <td>...</td>\n",
       "      <td>...</td>\n",
       "      <td>...</td>\n",
       "      <td>...</td>\n",
       "    </tr>\n",
       "    <tr>\n",
       "      <th>495</th>\n",
       "      <td>496</td>\n",
       "      <td>Male</td>\n",
       "      <td>22</td>\n",
       "      <td>37</td>\n",
       "      <td>76.61</td>\n",
       "      <td>2.97</td>\n",
       "      <td>Science</td>\n",
       "      <td>No</td>\n",
       "      <td>No</td>\n",
       "    </tr>\n",
       "    <tr>\n",
       "      <th>496</th>\n",
       "      <td>497</td>\n",
       "      <td>Male</td>\n",
       "      <td>23</td>\n",
       "      <td>11</td>\n",
       "      <td>56.29</td>\n",
       "      <td>3.20</td>\n",
       "      <td>Science</td>\n",
       "      <td>No</td>\n",
       "      <td>No</td>\n",
       "    </tr>\n",
       "    <tr>\n",
       "      <th>497</th>\n",
       "      <td>498</td>\n",
       "      <td>Female</td>\n",
       "      <td>20</td>\n",
       "      <td>6</td>\n",
       "      <td>56.64</td>\n",
       "      <td>3.20</td>\n",
       "      <td>Science</td>\n",
       "      <td>No</td>\n",
       "      <td>Yes</td>\n",
       "    </tr>\n",
       "    <tr>\n",
       "      <th>498</th>\n",
       "      <td>499</td>\n",
       "      <td>Male</td>\n",
       "      <td>22</td>\n",
       "      <td>18</td>\n",
       "      <td>57.18</td>\n",
       "      <td>2.05</td>\n",
       "      <td>Business</td>\n",
       "      <td>No</td>\n",
       "      <td>Yes</td>\n",
       "    </tr>\n",
       "    <tr>\n",
       "      <th>499</th>\n",
       "      <td>500</td>\n",
       "      <td>Female</td>\n",
       "      <td>24</td>\n",
       "      <td>21</td>\n",
       "      <td>96.99</td>\n",
       "      <td>2.64</td>\n",
       "      <td>Engineering</td>\n",
       "      <td>No</td>\n",
       "      <td>No</td>\n",
       "    </tr>\n",
       "  </tbody>\n",
       "</table>\n",
       "<p>500 rows × 9 columns</p>\n",
       "</div>"
      ],
      "text/plain": [
       "     StudentID  Gender  Age  StudyHoursPerWeek  AttendanceRate   GPA  \\\n",
       "0            1    Male   24                 37           90.75  3.47   \n",
       "1            2  Female   22                 37           74.90  2.32   \n",
       "2            3    Male   22                 10           53.36  2.38   \n",
       "3            4    Male   24                 10           70.26  3.46   \n",
       "4            5    Male   18                 19           74.87  2.31   \n",
       "..         ...     ...  ...                ...             ...   ...   \n",
       "495        496    Male   22                 37           76.61  2.97   \n",
       "496        497    Male   23                 11           56.29  3.20   \n",
       "497        498  Female   20                  6           56.64  3.20   \n",
       "498        499    Male   22                 18           57.18  2.05   \n",
       "499        500  Female   24                 21           96.99  2.64   \n",
       "\n",
       "           Major PartTimeJob ExtraCurricularActivities  \n",
       "0           Arts         Yes                        No  \n",
       "1      Education          No                        No  \n",
       "2       Business          No                        No  \n",
       "3        Science         Yes                        No  \n",
       "4      Education         Yes                        No  \n",
       "..           ...         ...                       ...  \n",
       "495      Science          No                        No  \n",
       "496      Science          No                        No  \n",
       "497      Science          No                       Yes  \n",
       "498     Business          No                       Yes  \n",
       "499  Engineering          No                        No  \n",
       "\n",
       "[500 rows x 9 columns]"
      ]
     },
     "execution_count": 86,
     "metadata": {},
     "output_type": "execute_result"
    }
   ],
   "source": [
    "df = pd.read_csv(\"student_performance_data (2).csv\")    ## this reads the whole dataset provided\n",
    "df"
   ]
  },
  {
   "cell_type": "code",
   "execution_count": 88,
   "id": "d9b1983b-5d5d-45e1-904a-e803e8994352",
   "metadata": {},
   "outputs": [
    {
     "name": "stdout",
     "output_type": "stream",
     "text": [
      "   StudentID  Gender  Age  StudyHoursPerWeek  AttendanceRate   GPA      Major  \\\n",
      "0          1    Male   24                 37           90.75  3.47       Arts   \n",
      "1          2  Female   22                 37           74.90  2.32  Education   \n",
      "2          3    Male   22                 10           53.36  2.38   Business   \n",
      "3          4    Male   24                 10           70.26  3.46    Science   \n",
      "4          5    Male   18                 19           74.87  2.31  Education   \n",
      "\n",
      "  PartTimeJob ExtraCurricularActivities  \n",
      "0         Yes                        No  \n",
      "1          No                        No  \n",
      "2          No                        No  \n",
      "3         Yes                        No  \n",
      "4         Yes                        No  \n"
     ]
    }
   ],
   "source": [
    "print(df.head())   ## shows the first 5 rows of data in the dataset given"
   ]
  },
  {
   "cell_type": "code",
   "execution_count": 90,
   "id": "7312f265-09fa-4322-9faf-224805964b69",
   "metadata": {},
   "outputs": [
    {
     "name": "stdout",
     "output_type": "stream",
     "text": [
      "     StudentID  Gender  Age  StudyHoursPerWeek  AttendanceRate   GPA  \\\n",
      "495        496    Male   22                 37           76.61  2.97   \n",
      "496        497    Male   23                 11           56.29  3.20   \n",
      "497        498  Female   20                  6           56.64  3.20   \n",
      "498        499    Male   22                 18           57.18  2.05   \n",
      "499        500  Female   24                 21           96.99  2.64   \n",
      "\n",
      "           Major PartTimeJob ExtraCurricularActivities  \n",
      "495      Science          No                        No  \n",
      "496      Science          No                        No  \n",
      "497      Science          No                       Yes  \n",
      "498     Business          No                       Yes  \n",
      "499  Engineering          No                        No  \n"
     ]
    }
   ],
   "source": [
    "print(df.tail())   ## this shows the last 5 rows of data given"
   ]
  },
  {
   "cell_type": "code",
   "execution_count": 92,
   "id": "9d348777-17b5-420a-8329-cda527073ed9",
   "metadata": {},
   "outputs": [
    {
     "name": "stdout",
     "output_type": "stream",
     "text": [
      "<class 'pandas.core.frame.DataFrame'>\n",
      "RangeIndex: 500 entries, 0 to 499\n",
      "Data columns (total 9 columns):\n",
      " #   Column                     Non-Null Count  Dtype  \n",
      "---  ------                     --------------  -----  \n",
      " 0   StudentID                  500 non-null    int64  \n",
      " 1   Gender                     500 non-null    object \n",
      " 2   Age                        500 non-null    int64  \n",
      " 3   StudyHoursPerWeek          500 non-null    int64  \n",
      " 4   AttendanceRate             500 non-null    float64\n",
      " 5   GPA                        500 non-null    float64\n",
      " 6   Major                      500 non-null    object \n",
      " 7   PartTimeJob                500 non-null    object \n",
      " 8   ExtraCurricularActivities  500 non-null    object \n",
      "dtypes: float64(2), int64(3), object(4)\n",
      "memory usage: 35.3+ KB\n",
      "None\n"
     ]
    }
   ],
   "source": [
    "print(df.info())  ## it shows all the information in the given dataset"
   ]
  },
  {
   "cell_type": "code",
   "execution_count": 94,
   "id": "0cf3644f-7553-4505-8628-79cfd54fe92d",
   "metadata": {},
   "outputs": [
    {
     "name": "stdout",
     "output_type": "stream",
     "text": [
      "        StudentID         Age  StudyHoursPerWeek  AttendanceRate        GPA\n",
      "count  500.000000  500.000000         500.000000      500.000000  500.00000\n",
      "mean   250.500000   20.956000          19.876000       74.990380    2.98516\n",
      "std    144.481833    2.000517          11.471347       14.565917    0.56362\n",
      "min      1.000000   18.000000           1.000000       50.010000    2.00000\n",
      "25%    125.750000   19.000000          10.000000       62.607500    2.48750\n",
      "50%    250.500000   21.000000          20.500000       75.730000    3.00000\n",
      "75%    375.250000   23.000000          30.000000       87.220000    3.48000\n",
      "max    500.000000   24.000000          39.000000       99.970000    3.99000\n"
     ]
    }
   ],
   "source": [
    "print(df.describe())  ##  this describes the data"
   ]
  },
  {
   "cell_type": "code",
   "execution_count": null,
   "id": "995c5e21-e75c-4f42-a118-2b9a6bcb9f3b",
   "metadata": {},
   "outputs": [],
   "source": []
  },
  {
   "cell_type": "code",
   "execution_count": null,
   "id": "df951433-08cb-4c9d-b128-525f961d592f",
   "metadata": {},
   "outputs": [],
   "source": []
  },
  {
   "cell_type": "markdown",
   "id": "c44291f8-393a-4c7c-9568-5851cd9f34d8",
   "metadata": {},
   "source": [
    "##### (b) Which gender has the highest overall average attendance rate? Return the gender and the average\n",
    "##### attendance rate? (3 marks)"
   ]
  },
  {
   "cell_type": "code",
   "execution_count": 99,
   "id": "a761c361-9318-40c7-8361-91d697aa3074",
   "metadata": {},
   "outputs": [
    {
     "name": "stdout",
     "output_type": "stream",
     "text": [
      "Index(['StudentID', 'Gender', 'Age', 'StudyHoursPerWeek', 'AttendanceRate',\n",
      "       'GPA', 'Major', 'PartTimeJob', 'ExtraCurricularActivities'],\n",
      "      dtype='object')\n"
     ]
    }
   ],
   "source": [
    "print(df.columns)"
   ]
  },
  {
   "cell_type": "markdown",
   "id": "36a19c00-44db-4686-a8b8-b0754f089732",
   "metadata": {},
   "source": [
    "##### (c) What percentage of students have part-time jobs, and what percentage have no part-time jobs?\n",
    "##### (5 marks)"
   ]
  },
  {
   "cell_type": "code",
   "execution_count": 102,
   "id": "c436e7fc-8e88-4a05-a2b8-dbc3c44993d2",
   "metadata": {},
   "outputs": [
    {
     "name": "stdout",
     "output_type": "stream",
     "text": [
      "PartTimeJob\n",
      "Yes    53.6\n",
      "No     46.4\n",
      "Name: proportion, dtype: float64\n"
     ]
    }
   ],
   "source": [
    "job_counts = df[\"PartTimeJob\"].value_counts(normalize = True) * 100\n",
    "print(job_counts)   ## calculates the percentage of students having part time job and those without"
   ]
  },
  {
   "cell_type": "markdown",
   "id": "023b8d80-c0f6-4e6e-8f6c-2ec9230dff40",
   "metadata": {},
   "source": [
    "##### (d) For each gender, what is the mean GPA and variance of age? (5 marks)"
   ]
  },
  {
   "cell_type": "code",
   "execution_count": 105,
   "id": "239785b3-18cc-4c01-a27d-61716fd439bd",
   "metadata": {},
   "outputs": [
    {
     "name": "stdout",
     "output_type": "stream",
     "text": [
      "             GPA       Age\n",
      "Gender                    \n",
      "Female  2.995352  4.005637\n",
      "Male    2.974467  3.960130\n"
     ]
    }
   ],
   "source": [
    "gpa_age_status = df.groupby(\"Gender\")[[\"GPA\",\"Age\"]].agg({\"GPA\":\"mean\",\"Age\":\"var\"})\n",
    "print(gpa_age_status)           ## this calculates the mean and variance of GPA"
   ]
  },
  {
   "cell_type": "markdown",
   "id": "0d6210e2-09cb-4b06-8c45-42dbc43cdcb9",
   "metadata": {},
   "source": [
    "##### (e) Create a visualization that effectively shows if there is a relationship between any two variables\n",
    "##### of your choice. Your answer must be given in a single pipe. (5 marks)"
   ]
  },
  {
   "cell_type": "code",
   "execution_count": 108,
   "id": "af2d1f64-2485-4a0e-b4ab-43281a49e902",
   "metadata": {},
   "outputs": [
    {
     "data": {
      "image/png": "[encoded data removed]",
      "text/plain": [
       "<Figure size 640x480 with 1 Axes>"
      ]
     },
     "metadata": {},
     "output_type": "display_data"
    }
   ],
   "source": [
    "sns.scatterplot(data = df,x = \"StudyHoursPerWeek\", y = \"GPA\", hue = \"Gender\", style = \"PartTimeJob\", palette= \"viridis\")\n",
    "plt.title(\"Relationship between Study Hours Per Week and GPA\")   ## shows the title of the graph\n",
    "plt.xlabel(\"Study Hour Per Week\")   ## shows the labels on the x axis\n",
    "plt.ylabel(\"GPA\")  ## SHOWS THE LABELS ON THE Y AXIS                                           \n",
    "plt.legend(title = \"Gender and Job\")  \n",
    "plt.show()   ## shows  the graph"
   ]
  },
  {
   "cell_type": "markdown",
   "id": "c30e5605-d85f-4ef0-a920-655cc1c31b58",
   "metadata": {},
   "source": [
    "# question 3"
   ]
  },
  {
   "cell_type": "markdown",
   "id": "1768e004-c091-449f-9103-bb11f4f245a8",
   "metadata": {},
   "source": [
    "\n",
    " Linear regression aims to predict a continuous target variable by finding the best-fit linear relation-\n",
    "ship between the target and the input features. The algorithm models the relationship using a linear\n",
    "\n",
    " equation: y = β0 + β1x + ε, where; y is the dependent variable, β’s are the coefficients (weights),\n",
    " minimize the difference between the predicted values and the actual values. This is typically done by\n",
    " minimizing the Mean Squared Error (MSE):\n",
    " MSE =\n",
    " 1\n",
    "n\n",
    " Xn\n",
    "i=1\n",
    " (y − y)\n",
    " 2\n",
    "\n",
    " (1)"
   ]
  },
  {
   "cell_type": "markdown",
   "id": "998f8a3b-a646-483e-bf53-5ac45da30c79",
   "metadata": {},
   "source": [
    "(a) Briefly describe the steps involved in fitting a linear regression in Python? (2 marks)"
   ]
  },
  {
   "cell_type": "markdown",
   "id": "a39049f2-a93e-42e6-96b1-c2fd628c2024",
   "metadata": {},
   "source": [
    "### The following are the links where i got the information about linera regression"
   ]
  },
  {
   "cell_type": "code",
   "execution_count": 114,
   "id": "7df0709f-54a1-4c96-9787-88fbee39e7f2",
   "metadata": {},
   "outputs": [],
   "source": [
    "### 1https://datascience.stackexchange.com/questions/10188/why-do-cost-functions-use-the-square-error"
   ]
  },
  {
   "cell_type": "markdown",
   "id": "c3295284-1277-43e2-b7f8-8a25836d7c19",
   "metadata": {},
   "source": [
    "### importing neccesary libraries"
   ]
  },
  {
   "cell_type": "code",
   "execution_count": 152,
   "id": "caef1fc5-13de-427b-89c8-9b0c511fb180",
   "metadata": {},
   "outputs": [],
   "source": [
    "\n",
    "from sklearn.model_selection import train_test_split    ### importing neccesary libraries\n",
    "from sklearn.linear_model import LinearRegression"
   ]
  },
  {
   "cell_type": "markdown",
   "id": "4728ee35-8d33-443d-8a72-9c360d4cebb3",
   "metadata": {},
   "source": [
    "   ### Load and Prepare Data:"
   ]
  },
  {
   "cell_type": "raw",
   "id": "40993c39-6a9f-4649-a72b-76ad990b7db3",
   "metadata": {},
   "source": [
    "df = pd.read_csv('data.csv')                ### Loading and Preparing the  Data:\n",
    "X = df[['feature1', 'feature2']]            ### independent variables is mainly the  (features)    \n",
    "y = df['target']                            ## dependent variable is also known as target variable(target)\n"
   ]
  },
  {
   "cell_type": "markdown",
   "id": "802a1308-80a4-43d5-886b-08bae97ee09f",
   "metadata": {},
   "source": [
    "   ### Split Data:"
   ]
  },
  {
   "cell_type": "raw",
   "id": "222588ef-7662-469d-9aba-290be5ec4406",
   "metadata": {},
   "source": [
    "X_train, X_test, y_train, y_test = train_test_split(X, y, test_size=0.2, random_state=42)         ### This code is used to Split Data in to small parts:\n"
   ]
  },
  {
   "cell_type": "markdown",
   "id": "7b10e1c7-e79e-4306-9a53-432abc946500",
   "metadata": {},
   "source": [
    "### Train the Model:   "
   ]
  },
  {
   "cell_type": "raw",
   "id": "efed834a-5ad5-4c21-aa9e-fb2b02e86f15",
   "metadata": {},
   "source": [
    "model = LinearRegression()\n",
    "model.fit(X_train, y_train)                ### This code is used in Training the Model:     \n"
   ]
  },
  {
   "cell_type": "markdown",
   "id": "16f7486a-ca5a-48d2-8dd9-ee9229013594",
   "metadata": {},
   "source": [
    "  ###  Make Predictions:"
   ]
  },
  {
   "cell_type": "raw",
   "id": "af80d120-299a-4cb5-b639-76c0a8482daf",
   "metadata": {},
   "source": [
    "y_pred = model.predict(X_test)             ### This code is used in Make Predictions of what is to happen\n",
    "                                               ### "
   ]
  },
  {
   "cell_type": "markdown",
   "id": "0fbbc4ac-0b2e-4277-844c-647b73979593",
   "metadata": {},
   "source": [
    "  ### Evaluate the Model: "
   ]
  },
  {
   "cell_type": "raw",
   "id": "c95ec6fd-cf3a-4744-9275-0ec2dc9ac285",
   "metadata": {},
   "source": [
    "from sklearn.metrics import mean_squared_error, r2_score\n",
    "mse = mean_squared_error(y_test, y_pred)                       ### This code Evaluates the Model:   \n",
    "r2 = r2_score(y_test, y_pred)\n"
   ]
  },
  {
   "cell_type": "code",
   "execution_count": 159,
   "id": "d4a6cb50-5a6e-487b-a91f-62a7b365969f",
   "metadata": {},
   "outputs": [],
   "source": [
    "### This deffines what a linear regression should consist forexample linearity and error normality"
   ]
  },
  {
   "cell_type": "markdown",
   "id": "d9f8534f-85f3-41ce-944b-673fdc60ac88",
   "metadata": {},
   "source": [
    "### (b) What assumptions does the linear regression take into consideration? (3 marks)"
   ]
  },
  {
   "cell_type": "markdown",
   "id": "b4ecb294-e1cc-409b-8f2c-b8aca8b32c0a",
   "metadata": {},
   "source": [
    "#### Linearity:"
   ]
  },
  {
   "cell_type": "markdown",
   "id": "d573ae96-bad4-43eb-9fd0-5d8a5595d749",
   "metadata": {},
   "source": [
    "\n",
    "There is a linear relationship between the independent variables (\n",
    "𝑋\n",
    "X) and the dependent variable (\n",
    "𝑦\n",
    "y).\n",
    "This means that changes in \n",
    "𝑋\n",
    "X are proportional to changes in \n",
    "𝑦\n",
    "y."
   ]
  },
  {
   "cell_type": "markdown",
   "id": "ea829bfd-411c-4555-8e49-835506c286dd",
   "metadata": {},
   "source": [
    "#### Independence of Errors:"
   ]
  },
  {
   "cell_type": "markdown",
   "id": "aebfa13f-3e54-4f7f-9a7a-a61a4be911fc",
   "metadata": {},
   "source": [
    "The residuals (errors) should be independent of each other.\n",
    "No autocorrelation should exist in the residuals, especially in time-series data. This can be tested using the Durbin-Watson test."
   ]
  },
  {
   "cell_type": "markdown",
   "id": "e725cdc4-b575-43ae-997b-46dc3b34217a",
   "metadata": {},
   "source": [
    "#### Normality of Errors:"
   ]
  },
  {
   "cell_type": "markdown",
   "id": "8cb94170-4e5a-43a6-8d13-0ad4791870f9",
   "metadata": {},
   "source": [
    "The residuals (errors) should be normally distributed.\n",
    "This is essential for valid hypothesis testing and the construction of confidence intervals."
   ]
  },
  {
   "cell_type": "markdown",
   "id": "b0781d2c-57ac-4560-a946-dd7d090a250e",
   "metadata": {},
   "source": [
    "#### No Measurement Error:"
   ]
  },
  {
   "cell_type": "markdown",
   "id": "48d8fe02-cac5-459f-9fd9-da4f25395eeb",
   "metadata": {},
   "source": [
    "The independent variables and the dependent variable should be measured accurately.\n",
    "Errors in measurement can lead to biased estimates of coefficients."
   ]
  },
  {
   "cell_type": "markdown",
   "id": "849814f3-f02a-4950-af93-c36fcdf98b88",
   "metadata": {},
   "source": [
    "#### (c) Using the 2020 US Census dataset, train a simple linear regression predicting a continuous tar-\n",
    "#### get variable using the scikit-learn library. From the output coefficients, generate an equation\n",
    "\n",
    "#### representing the trained simple linear regression? (3 amrks)"
   ]
  },
  {
   "cell_type": "code",
   "execution_count": 171,
   "id": "4ea032ff-6fb2-4e1f-b349-e535337133de",
   "metadata": {},
   "outputs": [
    {
     "name": "stdout",
     "output_type": "stream",
     "text": [
      "   Age     Sex           Marital_status  Number_of_children  Family_size  \\\n",
      "0   30    Male  Married, spouse present                   2            4   \n",
      "1   28  Female  Married, spouse present     1 child present            3   \n",
      "2   34    Male  Married, spouse present     1 child present            3   \n",
      "3   58  Female   Married, spouse absent     1 child present            2   \n",
      "4   39    Male     Never married/single  0 children present            1   \n",
      "\n",
      "                 Education-degree_recode  \\\n",
      "0      Masterâ€™s or professional degree   \n",
      "1      Masterâ€™s or professional degree   \n",
      "2                    Bachelorâ€™s degree   \n",
      "3  1 or more years of college, no degree   \n",
      "4                    Bachelorâ€™s degree   \n",
      "\n",
      "               Education-degree_recode 2  \\\n",
      "0          Master or professional degree   \n",
      "1          Master or professional degree   \n",
      "2                        Bachelor degree   \n",
      "3  1 or more years of college, no degree   \n",
      "4                        Bachelor degree   \n",
      "\n",
      "                               Education Race_ethnicity-multi_recode  \\\n",
      "0   Master or PhD or professional degree          Non-Hispanic White   \n",
      "1   Master or PhD or professional degree          Non-Hispanic White   \n",
      "2           Associate or Bachelor degree          Non-Hispanic White   \n",
      "3  1 or more years of college, no degree          Non-Hispanic White   \n",
      "4           Associate or Bachelor degree          Non-Hispanic White   \n",
      "\n",
      "   Immigrate-year                          Birthplace_recode  \\\n",
      "0               0  U.S. state, territory, or outlying region   \n",
      "1               0  U.S. state, territory, or outlying region   \n",
      "2               0  U.S. state, territory, or outlying region   \n",
      "3               0  U.S. state, territory, or outlying region   \n",
      "4               0  U.S. state, territory, or outlying region   \n",
      "\n",
      "             Speaks_English Employment_status  Income-wages Region_recode  \\\n",
      "0  Yes, speaks only English          Employed         63000         South   \n",
      "1  Yes, speaks only English          Employed         46000         South   \n",
      "2  Yes, speaks only English          Employed         45000         South   \n",
      "3  Yes, speaks only English          Employed         55000         South   \n",
      "4  Yes, speaks only English          Employed         12000         South   \n",
      "\n",
      "  Region-division_recode       Moved  Year      state  \n",
      "0     East South Central  Same house  2020  Tennessee  \n",
      "1     East South Central  Same house  2020  Tennessee  \n",
      "2     East South Central  Same house  2020  Tennessee  \n",
      "3     East South Central  Same house  2020  Tennessee  \n",
      "4     East South Central  Same house  2020  Tennessee  \n"
     ]
    }
   ],
   "source": [
    "import pandas as pd\n",
    "\n",
    "                                             #linking my work Path to the Excel file\n",
    "file_path = r'C:\\Users\\wanyeste charity\\Desktop\\data_science_end_of_semester_one\\Wages 2020Census cleaned.xlsx'\n",
    "\n",
    "      # Read the Excel file\n",
    "df = pd.read_excel(file_path)\n",
    "\n",
    "# Display the first few rows of the DataFrame\n",
    "print(df.head())   ## it displays the first \n"
   ]
  },
  {
   "cell_type": "markdown",
   "id": "fa69f77e-5c7a-4108-ae0d-488f5f28c461",
   "metadata": {},
   "source": [
    "(d) Compute the Mean Absolute Error (MSE) from your model. (2 marks)"
   ]
  },
  {
   "cell_type": "code",
   "execution_count": 212,
   "id": "9bdf4e17-a0d7-4110-a440-1e53d2638d2b",
   "metadata": {},
   "outputs": [],
   "source": [
    "from sklearn.metrics import mean_squared_error    ## helps in coputing the mean squared error"
   ]
  },
  {
   "cell_type": "code",
   "execution_count": 214,
   "id": "2e4dcc53-c166-47f6-9898-3ac8bd2b6435",
   "metadata": {},
   "outputs": [],
   "source": [
    "from sklearn.linear_model import LinearRegression     ## used in training of a model in jupyter notebook\n"
   ]
  },
  {
   "cell_type": "code",
   "execution_count": 178,
   "id": "2a60b27b-1ea0-4f52-b456-e160ccf221e6",
   "metadata": {},
   "outputs": [
    {
     "name": "stdout",
     "output_type": "stream",
     "text": [
      "Mean Squared Error (MSE): 519.1825\n"
     ]
    }
   ],
   "source": [
    "\n",
    "\n",
    "# Actual values (y) and predicted values (y_pred)\n",
    "Age = np.array([25, 30, 22, 27])  # Example actual values\n",
    "GPA = np.array([3.2, 3.5, 3.0, 3.8])  # Example predicted values\n",
    "\n",
    "# Compute the Mean Squared Error (MSE)\n",
    "mse = np.mean((Age - GPA) ** 2)\n",
    "print(f\"Mean Squared Error (MSE): {mse}\")\n"
   ]
  },
  {
   "cell_type": "markdown",
   "id": "b601a311-66f2-40be-9a25-f57fb4f37c27",
   "metadata": {},
   "source": [
    "(e) Extract and interprete the key outputs from a linear regression model (5 marks)"
   ]
  },
  {
   "cell_type": "code",
   "execution_count": 200,
   "id": "d907d32a-65f2-427c-87dd-30c108a2af4b",
   "metadata": {},
   "outputs": [
    {
     "name": "stdout",
     "output_type": "stream",
     "text": [
      "Coefficients: [0.07647059]\n"
     ]
    }
   ],
   "source": [
    "coefficients = model.coef_\n",
    "print(f\"Coefficients: {coefficients}\")   ## coefficient is one of the key outputs in linear regression and we use a method model.coef\n",
    "                                         ## which is a short term to mean coefficient    \n"
   ]
  },
  {
   "cell_type": "code",
   "execution_count": 202,
   "id": "b428e8e5-78a4-49d2-bc3e-2c3e598a71b8",
   "metadata": {},
   "outputs": [
    {
     "name": "stdout",
     "output_type": "stream",
     "text": [
      "Intercept: 1.3867647058823531\n"
     ]
    }
   ],
   "source": [
    "intercept = model.intercept_\n",
    "print(f\"Intercept: {intercept}\")## intercept is one of the key outputs in linear regression and we use a method model.intercept\n",
    "                                          \n"
   ]
  },
  {
   "cell_type": "code",
   "execution_count": 216,
   "id": "4ec659af-359d-4516-a8c1-fde1a7085894",
   "metadata": {},
   "outputs": [
    {
     "ename": "NameError",
     "evalue": "name 'X_test' is not defined",
     "output_type": "error",
     "traceback": [
      "\u001b[1;31m---------------------------------------------------------------------------\u001b[0m",
      "\u001b[1;31mNameError\u001b[0m                                 Traceback (most recent call last)",
      "Cell \u001b[1;32mIn[216], line 1\u001b[0m\n\u001b[1;32m----> 1\u001b[0m y_pred \u001b[38;5;241m=\u001b[39m model\u001b[38;5;241m.\u001b[39mpredict(X_test)\n\u001b[0;32m      2\u001b[0m \u001b[38;5;28mprint\u001b[39m(y_pred)\n",
      "\u001b[1;31mNameError\u001b[0m: name 'X_test' is not defined"
     ]
    }
   ],
   "source": [
    "y_pred = model.predict(X_test)\n",
    "print(y_pred)"
   ]
  },
  {
   "cell_type": "code",
   "execution_count": 218,
   "id": "b27d33f9-ba69-4cf1-ac08-b4a7f1044671",
   "metadata": {},
   "outputs": [
    {
     "ename": "NameError",
     "evalue": "name 'y_test' is not defined",
     "output_type": "error",
     "traceback": [
      "\u001b[1;31m---------------------------------------------------------------------------\u001b[0m",
      "\u001b[1;31mNameError\u001b[0m                                 Traceback (most recent call last)",
      "Cell \u001b[1;32mIn[218], line 3\u001b[0m\n\u001b[0;32m      1\u001b[0m \u001b[38;5;28;01mfrom\u001b[39;00m \u001b[38;5;21;01msklearn\u001b[39;00m\u001b[38;5;21;01m.\u001b[39;00m\u001b[38;5;21;01mmetrics\u001b[39;00m \u001b[38;5;28;01mimport\u001b[39;00m mean_squared_error, r2_score\n\u001b[1;32m----> 3\u001b[0m mse \u001b[38;5;241m=\u001b[39m mean_squared_error(y_test, y_pred)\n\u001b[0;32m      4\u001b[0m r2 \u001b[38;5;241m=\u001b[39m r2_score(y_test, y_pred)\\\n\u001b[0;32m      5\u001b[0m                                                       \u001b[38;5;66;03m### this is done when finding the mean squared error\u001b[39;00m\n",
      "\u001b[1;31mNameError\u001b[0m: name 'y_test' is not defined"
     ]
    }
   ],
   "source": [
    "from sklearn.metrics import mean_squared_error, r2_score\n",
    "\n",
    "mse = mean_squared_error(y_test, y_pred)\n",
    "r2 = r2_score(y_test, y_pred)\\\n",
    "                                                      ### this is done when finding the mean squared error\n",
    "\n",
    "print(f\"Mean Squared Error (MSE): {mse}\")\n",
    "print(f\"R-squared (R²): {r2}\")\n"
   ]
  },
  {
   "cell_type": "markdown",
   "id": "0e0820eb-fbb1-4a26-836a-ad066d1341a7",
   "metadata": {},
   "source": [
    "(f) Plot the linear regression model (5 marks)"
   ]
  },
  {
   "cell_type": "code",
   "execution_count": 192,
   "id": "7f40d0f8-6fb9-4223-a36c-9c7456f4e63d",
   "metadata": {},
   "outputs": [],
   "source": [
    "import matplotlib.pyplot as plt"
   ]
  },
  {
   "cell_type": "code",
   "execution_count": 194,
   "id": "0c541ee5-4cca-4ab8-a6ff-08dcfb2a64e4",
   "metadata": {},
   "outputs": [],
   "source": [
    "from sklearn.linear_model import LinearRegression"
   ]
  },
  {
   "cell_type": "code",
   "execution_count": 196,
   "id": "cdc4aa39-60af-42c4-b070-9a8464997c9a",
   "metadata": {},
   "outputs": [],
   "source": [
    "import pandas as pd\n",
    "import seaborn as sns\n",
    "from sklearn.model_selection import train_test_split\n"
   ]
  },
  {
   "cell_type": "code",
   "execution_count": 198,
   "id": "1941f8e5-cd91-4fd8-b6ae-c8f820f3ac9b",
   "metadata": {},
   "outputs": [
    {
     "data": {
      "image/png": "[encoded data removed]",
      "text/plain": [
       "<Figure size 640x480 with 1 Axes>"
      ]
     },
     "metadata": {},
     "output_type": "display_data"
    }
   ],
   "source": [
    "# Import necessary libraries\n",
    "import numpy as np\n",
    "import matplotlib.pyplot as plt\n",
    "from sklearn.linear_model import LinearRegression\n",
    "\n",
    "# Example data\n",
    "                                                              # Independent variable (e.g., Age)\n",
    "X = np.array([25, 30, 22, 27]).reshape(-1, 1)                 # Reshaped for scikit-learn\n",
    "# Dependent variable (e.g., GPA)\n",
    "y = np.array([3.2, 3.5, 3.0, 3.8])\n",
    "\n",
    "# Initialize and fit the linear regression model\n",
    "model = LinearRegression()\n",
    "model.fit(X, y)\n",
    "\n",
    "# Predict values using the trained model\n",
    "y_pred = model.predict(X)\n",
    "\n",
    "# Plotting the data and the regression line\n",
    "plt.scatter(X, y, color='blue', label='Actual data')  # Plot actual data points\n",
    "plt.plot(X, y_pred, color='red', label='Regression line')  # Plot the regression line\n",
    "plt.title('Linear Regression Model')  ## the title of the graph  to be ploted\n",
    "plt.xlabel('Age')  # Independent variable\n",
    "plt.ylabel('GPA')  # Dependent variable\n",
    "plt.legend()\n",
    "plt.grid(True)\n",
    "plt.show()    ## this plots or shows how the graph looks . this code commands\n"
   ]
  },
  {
   "cell_type": "code",
   "execution_count": null,
   "id": "435baea5-0df4-465b-955e-e8d0c7b9d2c4",
   "metadata": {},
   "outputs": [],
   "source": []
  }
 ],
 "metadata": {
  "kernelspec": {
   "display_name": "Python 3 (ipykernel)",
   "language": "python",
   "name": "python3"
  },
  "language_info": {
   "codemirror_mode": {
    "name": "ipython",
    "version": 3
   },
   "file_extension": ".py",
   "mimetype": "text/x-python",
   "name": "python",
   "nbconvert_exporter": "python",
   "pygments_lexer": "ipython3",
   "version": "3.12.7"
  }
 },
 "nbformat": 4,
 "nbformat_minor": 5
}
